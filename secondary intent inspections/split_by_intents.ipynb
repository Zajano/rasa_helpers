{
 "metadata": {
  "language_info": {
   "codemirror_mode": {
    "name": "ipython",
    "version": 3
   },
   "file_extension": ".py",
   "mimetype": "text/x-python",
   "name": "python",
   "nbconvert_exporter": "python",
   "pygments_lexer": "ipython3",
   "version": "3.8.3-final"
  },
  "orig_nbformat": 2,
  "kernelspec": {
   "name": "python3",
   "display_name": "Python 3",
   "language": "python"
  }
 },
 "nbformat": 4,
 "nbformat_minor": 2,
 "cells": [
  {
   "cell_type": "code",
   "execution_count": 9,
   "metadata": {},
   "outputs": [],
   "source": [
    "import pandas as pd\n",
    "import os, re\n",
    "\n",
    "os.chdir(\"C:\\\\Users\\\\Zjaffen1\\\\Desktop\\\\Projects\\\\data\\\\rasa messages\")"
   ]
  },
  {
   "cell_type": "code",
   "execution_count": 10,
   "metadata": {},
   "outputs": [],
   "source": [
    "def get_second_intent(intent_list):\n",
    "    if len(intent_list) > 1:\n",
    "        end = intent_list[1].find(\",\")\n",
    "        return intent_list[1][6:end]\n",
    "\n",
    "def get_second_confidence(intent_list):\n",
    "    if len(intent_list) > 1:\n",
    "        start = intent_list[1].find(\",\") + 13\n",
    "        end = intent_list[1].find(\")\")\n",
    "        return float(intent_list[1][start:end])\n"
   ]
  },
  {
   "cell_type": "code",
   "execution_count": 11,
   "metadata": {},
   "outputs": [],
   "source": [
    "# target CSV and directory to save results to\n",
    "csv = \"TMOOS_jan21_con90.csv\"\n",
    "dir_name = \"tmoos_secondary_intents\""
   ]
  },
  {
   "cell_type": "code",
   "execution_count": 12,
   "metadata": {},
   "outputs": [
    {
     "output_type": "stream",
     "name": "stdout",
     "text": [
      "36448\n"
     ]
    }
   ],
   "source": [
    "messages_df = pd.read_csv(csv)\n",
    "print(len(messages_df))"
   ]
  },
  {
   "cell_type": "code",
   "execution_count": 13,
   "metadata": {},
   "outputs": [],
   "source": [
    "# intents string to list\n",
    "messages_df['intent_ranking'] = messages_df['intent_ranking'].apply(lambda x: re.findall('\\(.*?\\)', x))"
   ]
  },
  {
   "cell_type": "code",
   "execution_count": 14,
   "metadata": {},
   "outputs": [],
   "source": [
    "messages_df['secondary_intent'] = messages_df['intent_ranking'].apply(get_second_intent)"
   ]
  },
  {
   "cell_type": "code",
   "execution_count": 15,
   "metadata": {},
   "outputs": [],
   "source": [
    "messages_df['secondary_confidence'] = messages_df['intent_ranking'].apply(get_second_confidence)"
   ]
  },
  {
   "cell_type": "code",
   "execution_count": 16,
   "metadata": {
    "tags": []
   },
   "outputs": [
    {
     "output_type": "stream",
     "name": "stdout",
     "text": [
      "finished exporting secondary intents data\n"
     ]
    }
   ],
   "source": [
    "intents = messages_df.secondary_intent.unique()\n",
    "sec_intents_ranking = []\n",
    "os.makedirs(dir_name, exist_ok=True)\n",
    "os.chdir(dir_name)\n",
    "os.makedirs('intent_texts', exist_ok=True)\n",
    "for intent in intents:\n",
    "    temp_df = messages_df[messages_df['secondary_intent'] == intent]\n",
    "    total = len(temp_df)\n",
    "    mean = temp_df['secondary_confidence'].mean()\n",
    "    median = temp_df['secondary_confidence'].median()\n",
    "    sec_intents_ranking.append((intent, total, mean, median))\n",
    "\n",
    "    # for csvs with messages\n",
    "    messages_loc = \"intent_texts\\\\\" + intent + \"_messages.csv\"\n",
    "    temp_df = temp_df[['input_text','secondary_confidence']]\n",
    "    temp_df = temp_df.sort_values(by='secondary_confidence', ascending=False)\n",
    "    temp_df.to_csv(messages_loc, index=False, encoding='utf-8')\n",
    "\n",
    "sec_intents_ranking.sort(key = lambda x: x[1], reverse=True)\n",
    "s_intents_df = pd.DataFrame(sec_intents_ranking, columns=['Intent', 'Num Occurences', 'Avg Confidence', 'Median Confidence'])\n",
    "ranked_name = 'ranked_' + dir_name + \".csv\"\n",
    "s_intents_df.to_csv(ranked_name, index=False, encoding='utf-8')\n",
    "print(\"finished exporting secondary intents data\")"
   ]
  }
 ]
}