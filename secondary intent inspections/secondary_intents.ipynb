{
 "metadata": {
  "language_info": {
   "codemirror_mode": {
    "name": "ipython",
    "version": 3
   },
   "file_extension": ".py",
   "mimetype": "text/x-python",
   "name": "python",
   "nbconvert_exporter": "python",
   "pygments_lexer": "ipython3",
   "version": "3.8.7"
  },
  "orig_nbformat": 2,
  "kernelspec": {
   "name": "python387jvsc74a57bd0fc2248380a9bd6428bf08bb4fc2434286ae5925a18294b4d916e4422ef4ee18b",
   "display_name": "Python 3.8.7 64-bit"
  },
  "metadata": {
   "interpreter": {
    "hash": "fc2248380a9bd6428bf08bb4fc2434286ae5925a18294b4d916e4422ef4ee18b"
   }
  }
 },
 "nbformat": 4,
 "nbformat_minor": 2,
 "cells": [
  {
   "cell_type": "code",
   "execution_count": 25,
   "metadata": {},
   "outputs": [],
   "source": [
    "from collections import Counter\n",
    "import itertools as it\n",
    "import pandas as pd\n",
    "import os, re\n",
    "\n",
    "# location of CSV to target\n",
    "data_dir = \"C:\\\\Users\\\\Zjaffen1\\\\Desktop\\\\Projects\\\\data\\\\rasa messages\"\n",
    "\n",
    "# target CSV\n",
    "csv = \"525_30day_activate_phone_trimmed.csv\"\n",
    "\n",
    "# new directory to save results to\n",
    "dir_name = \"activate_phone_secondary_intents\"\n",
    "os.chdir(data_dir)\n",
    "os.makedirs(dir_name, exist_ok=True)"
   ]
  },
  {
   "cell_type": "code",
   "execution_count": 26,
   "metadata": {},
   "outputs": [],
   "source": [
    "def get_second_intent(intent_list):\n",
    "    if len(intent_list) > 1:\n",
    "        end = intent_list[1].find(\",\")\n",
    "        return intent_list[1][6:end]\n",
    "\n",
    "def get_second_confidence(intent_list):\n",
    "    if len(intent_list) > 1:\n",
    "        start = intent_list[1].find(\",\") + 13\n",
    "        end = intent_list[1].find(\")\")\n",
    "        return float(intent_list[1][start:end])\n"
   ]
  },
  {
   "cell_type": "code",
   "execution_count": 27,
   "metadata": {},
   "outputs": [],
   "source": [
    "# dataframe for CSV\n",
    "messages_df = pd.read_csv(csv)\n",
    "\n",
    "# turn intents string into list\n",
    "messages_df['intent_ranking'] = messages_df['intent_ranking'].apply(lambda x: re.findall('\\(.*?\\)', x))\n",
    "\n",
    "# new df columns for secondary intent and confidence\n",
    "messages_df['secondary_intent'] = messages_df['intent_ranking'].apply(get_second_intent)\n",
    "messages_df['secondary_confidence'] = messages_df['intent_ranking'].apply(get_second_confidence)\n",
    "\n",
    "# check number of messages for intent\n",
    "# print(len(messages_df))"
   ]
  },
  {
   "cell_type": "code",
   "execution_count": 28,
   "metadata": {
    "tags": []
   },
   "outputs": [
    {
     "output_type": "stream",
     "name": "stdout",
     "text": [
      "finished exporting secondary intents text\n"
     ]
    }
   ],
   "source": [
    "# list of different secondary intents\n",
    "intents = messages_df.secondary_intent.unique()\n",
    "\n",
    "# loop to go through each intent and create file for their text samples and rank occurences\n",
    "sec_intents_ranking = []\n",
    "os.chdir(dir_name)\n",
    "os.makedirs('intent_texts', exist_ok=True)\n",
    "for intent in intents:\n",
    "    temp_df = messages_df[messages_df['secondary_intent'] == intent]\n",
    "    total = len(temp_df)\n",
    "    mean = temp_df['secondary_confidence'].mean()\n",
    "    median = temp_df['secondary_confidence'].median()\n",
    "    sec_intents_ranking.append((intent, total, mean, median))\n",
    "\n",
    "    # for csvs with messages\n",
    "    messages_loc = \"intent_texts\\\\\" + intent + \"_messages.csv\"\n",
    "    temp_df = temp_df[['input_text','secondary_confidence']]\n",
    "    temp_df = temp_df.sort_values(by='secondary_confidence', ascending=False)\n",
    "    temp_df.to_csv(messages_loc, index=False, encoding='utf-8')\n",
    "\n",
    "print(\"finished exporting secondary intents text\")"
   ]
  },
  {
   "source": [
    "## rank top secondary intents for given intent CSV"
   ],
   "cell_type": "markdown",
   "metadata": {}
  },
  {
   "cell_type": "code",
   "execution_count": 29,
   "metadata": {},
   "outputs": [
    {
     "output_type": "stream",
     "name": "stdout",
     "text": [
      "finished secondary intents rankings for 525_30day_activate_phone_trimmed.csv\n"
     ]
    }
   ],
   "source": [
    "sec_intents_ranking.sort(key = lambda x: x[1], reverse=True)\n",
    "s_intents_df = pd.DataFrame(sec_intents_ranking, columns=['Intent', 'Num Occurences', 'Avg Confidence', 'Median Confidence'])\n",
    "ranked_name = 'ranked_' + dir_name + \".csv\"\n",
    "s_intents_df.to_csv(ranked_name, index=False, encoding='utf-8')\n",
    "print(\"finished secondary intents rankings for \" + csv)"
   ]
  },
  {
   "source": [
    "## make lists of top words for each secondary intent to find confusion vocab"
   ],
   "cell_type": "markdown",
   "metadata": {}
  },
  {
   "cell_type": "code",
   "execution_count": 33,
   "metadata": {},
   "outputs": [],
   "source": [
    "# list of words to ignore\n",
    "stopwords = [\"i\", \"im\", \"hey\", \"hello\", \"hi\", \"me\", \"my\", \"myself\", \"we\", \"our\", \"ours\", \"ourselves\", \"you\", \"your\", \"yours\", \"yourself\", \"yourselves\", \"he\", \"him\", \"his\", \"himself\", \"she\", \"her\", \"hers\", \"herself\", \"it\", \"its\", \"itself\", \"they\", \"them\", \"their\", \"theirs\", \"themselves\", \"what\", \"which\", \"who\", \"whom\", \"this\", \"that\", \"these\", \"those\", \"am\", \"is\", \"are\", \"was\", \"were\", \"be\", \"been\", \"being\", \"have\", \"has\", \"had\", \"having\", \"do\", \"u\", \"does\", \"did\", \"doing\", \"a\", \"an\", \"the\", \"and\", \"but\", \"if\", \"or\", \"because\", \"as\", \"until\", \"while\", \"of\", \"at\", \"by\", \"for\", \"with\", \"about\", \"against\", \"between\", \"into\", \"through\", \"during\", \"before\", \"after\", \"above\", \"below\", \"to\", \"from\", \"up\", \"down\", \"in\", \"out\", \"on\", \"off\", \"over\", \"under\", \"again\", \"further\", \"then\", \"once\", \"here\", \"there\", \"when\", \"where\", \"why\", \"how\", \"all\", \"any\", \"both\", \"each\", \"few\", \"more\", \"most\", \"other\", \"some\", \"such\", \"no\", \"nor\", \"not\", \"only\", \"own\", \"same\", \"so\", \"than\", \"too\", \"very\", \"s\", \"t\", \"can\", \"will\", \"just\", \"dont\", \"should\", \"now\", \"tmobile\", \"need\", \"like\", \"would\", \"get\", \"trying\", \"new\", \"know\", \"got\", \"use\", \"one\", \"go\", \"g\", \"cant\", \"please\"]\n",
    "\n",
    "# maybe want more words to ignore?\n",
    "stopwords += []\n",
    "\n",
    "# remove dupes\n",
    "stopwords = set(stopwords)"
   ]
  },
  {
   "cell_type": "code",
   "execution_count": 34,
   "metadata": {},
   "outputs": [],
   "source": [
    "# list of files from secondary intent texts for word review\n",
    "texts_dir = data_dir + \"\\\\\" + dir_name + \"\\\\intent_texts\"\n",
    "text_paths = []\n",
    "for dirpath, subdirs, files in os.walk(texts_dir):\n",
    "    for file in files:\n",
    "        text_paths.append(os.path.join(dirpath, file))"
   ]
  },
  {
   "cell_type": "code",
   "execution_count": 35,
   "metadata": {},
   "outputs": [
    {
     "output_type": "stream",
     "name": "stdout",
     "text": [
      "Done counting top words for 525_30day_activate_phone_trimmed.csv\n"
     ]
    }
   ],
   "source": [
    "\n",
    "start = len(texts_dir)\n",
    "# target CSV and directory to save results to\n",
    "word_results = []\n",
    "for filepath in text_paths:\n",
    "\n",
    "    intent = filepath[start+1:-13] + \":\"\n",
    "    messages_df = pd.read_csv(filepath)\n",
    "    input_texts = messages_df['input_text'].tolist()\n",
    "    text_words = [re.sub('[^A-Z a-z]+', '', text).lower().split() for text in input_texts]\n",
    "    words = list(it.filterfalse(lambda word: word in stopwords or len(word)>15, it.chain.from_iterable(text_words)))\n",
    "    word_results.append((intent, list(Counter(words).most_common(15))))\n",
    "\n",
    "# remove intents with no matches\n",
    "pops = []\n",
    "for i in range(len(word_results)):\n",
    "    if len(word_results[i][1]) == 0:\n",
    "        pops.append(i)\n",
    "for val in pops:\n",
    "    word_results.pop(val)\n",
    "\n",
    "word_results.sort(key = lambda x: x[1][0][1], reverse=True)\n",
    "with open(\"intents_top_words.txt\", \"w+\") as words_file:\n",
    "    for intent in word_results:\n",
    "        words_file.write(intent[0] + '\\n' + str(intent[1]) + '\\n\\n')\n",
    "    words_file.close()\n",
    "print(\"Done counting top words for \" + csv)"
   ]
  },
  {
   "cell_type": "code",
   "execution_count": null,
   "metadata": {},
   "outputs": [],
   "source": []
  }
 ]
}